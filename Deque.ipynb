{
  "nbformat": 4,
  "nbformat_minor": 0,
  "metadata": {
    "colab": {
      "name": "Deque.ipynb",
      "provenance": [],
      "collapsed_sections": [],
      "authorship_tag": "ABX9TyNPzAwlo00O8x43f5tycHI2",
      "include_colab_link": true
    },
    "kernelspec": {
      "name": "python3",
      "display_name": "Python 3"
    }
  },
  "cells": [
    {
      "cell_type": "markdown",
      "metadata": {
        "id": "view-in-github",
        "colab_type": "text"
      },
      "source": [
        "<a href=\"https://colab.research.google.com/github/ShivanshGupta1/Deque/blob/main/Deque.ipynb\" target=\"_parent\"><img src=\"https://colab.research.google.com/assets/colab-badge.svg\" alt=\"Open In Colab\"/></a>"
      ]
    },
    {
      "cell_type": "code",
      "metadata": {
        "colab": {
          "base_uri": "https://localhost:8080/"
        },
        "id": "fnMXxL5232uS",
        "outputId": "80249081-46d2-439a-db69-f8134c3a66e7"
      },
      "source": [
        "#Creating a deque\n",
        "#A deque is a data structure to overcome the shortcomings of stack and queue\n",
        "from collections import deque #This is importing deque\n",
        "myName = deque(\"Shivansh\")#Using the deque constructor to create a deque\n",
        "print(myName)#Printing it\n",
        "print(type(myName))#Printing its type"
      ],
      "execution_count": null,
      "outputs": [
        {
          "output_type": "stream",
          "text": [
            "deque(['S', 'h', 'i', 'v', 'a', 'n', 's', 'h'])\n",
            "<class 'collections.deque'>\n"
          ],
          "name": "stdout"
        }
      ]
    },
    {
      "cell_type": "code",
      "metadata": {
        "colab": {
          "base_uri": "https://localhost:8080/"
        },
        "id": "Uz1CAVha45ex",
        "outputId": "8c2fa0a4-fb2d-4033-a1d0-39e0df0a768c"
      },
      "source": [
        "#Append method to add a single element\n",
        "from collections import deque\n",
        "myName = deque()\n",
        "myName.append(\"Shivansh\")\n",
        "print(myName)"
      ],
      "execution_count": null,
      "outputs": [
        {
          "output_type": "stream",
          "text": [
            "deque(['Shivansh'])\n"
          ],
          "name": "stdout"
        }
      ]
    },
    {
      "cell_type": "code",
      "metadata": {
        "colab": {
          "base_uri": "https://localhost:8080/"
        },
        "id": "oBHujlq65QIc",
        "outputId": "2f267a30-5d7a-40c2-add2-e6a29650a6a6"
      },
      "source": [
        "from collections import deque\n",
        "myName = deque()\n",
        "myName.append(\"Shivansh\")\n",
        "myName.append(\"Daksh\")\n",
        "print(myName.count(\"Shivansh\"))#Using same methods as on a list, like count\n",
        "print(len(myName))#Checking the length"
      ],
      "execution_count": null,
      "outputs": [
        {
          "output_type": "stream",
          "text": [
            "1\n",
            "2\n"
          ],
          "name": "stdout"
        }
      ]
    },
    {
      "cell_type": "code",
      "metadata": {
        "id": "VimglRCz59Zk"
      },
      "source": [
        "from collections import deque\n",
        "myName = deque()\n",
        "myName.append(\"Shivansh\")\n",
        "myName.append(\"Daksh\")\n",
        "print(myName)\n",
        "#All the datas are added from the right\n",
        "# To add from left we use..\n",
        "myName.appendleft(\"Kanishk\")\n",
        "print(myName)\n",
        "#Lists are newer data structures, which is we they are better"
      ],
      "execution_count": null,
      "outputs": []
    },
    {
      "cell_type": "code",
      "metadata": {
        "colab": {
          "base_uri": "https://localhost:8080/"
        },
        "id": "OfcRFgho62DZ",
        "outputId": "82f29d02-fe87-4661-9f1a-cd20d0e6df92"
      },
      "source": [
        "#Pop method to remove element\n",
        "from collections import deque\n",
        "myName = deque()\n",
        "myName.append(\"Shivansh\")\n",
        "myName.append(\"Daksh\")\n",
        "myName.appendleft(\"Kanishk\")\n",
        "myName.pop()#Its pops from right\n",
        "print(myName)\n",
        "#To pop from left we use...\n",
        "myName.popleft()\n",
        "print(myName)"
      ],
      "execution_count": null,
      "outputs": [
        {
          "output_type": "stream",
          "text": [
            "deque(['Kanishk', 'Shivansh'])\n",
            "deque(['Shivansh'])\n"
          ],
          "name": "stdout"
        }
      ]
    },
    {
      "cell_type": "code",
      "metadata": {
        "colab": {
          "base_uri": "https://localhost:8080/"
        },
        "id": "3DMKwnJ47vk6",
        "outputId": "386f4b74-1910-4d45-cbf3-04ea61365d82"
      },
      "source": [
        "#Extend method - To add multiple elements\n",
        "from collections import deque\n",
        "myName = deque()\n",
        "myName.append(\"Shivansh\")\n",
        "myName.extend(\"Daksh\")#If we add without \"[]\", then it will split it\n",
        "print(myName)"
      ],
      "execution_count": null,
      "outputs": [
        {
          "output_type": "stream",
          "text": [
            "deque(['Shivansh', 'D', 'a', 'k', 's', 'h'])\n"
          ],
          "name": "stdout"
        }
      ]
    },
    {
      "cell_type": "code",
      "metadata": {
        "colab": {
          "base_uri": "https://localhost:8080/"
        },
        "id": "YZrrJUaH8Bji",
        "outputId": "7ae27e4a-93b9-451b-d02d-2363d4f9a57a"
      },
      "source": [
        "#Extend method (continuation) - To add multiple elements\n",
        "from collections import deque\n",
        "myName = deque()\n",
        "myName.append(\"Shivansh\")\n",
        "myName.extend([\"Daksh\",\"Kanishk\"])\n",
        "print(myName)\n",
        "#Similarly, there is a extend left method\n",
        "myName.extendleft([\"Vivaan\",\"Sahib\"])\n",
        "print(myName)"
      ],
      "execution_count": null,
      "outputs": [
        {
          "output_type": "stream",
          "text": [
            "deque(['Shivansh', 'Daksh', 'Kanishk'])\n",
            "deque(['Sahib', 'Vivaan', 'Shivansh', 'Daksh', 'Kanishk'])\n"
          ],
          "name": "stdout"
        }
      ]
    },
    {
      "cell_type": "code",
      "metadata": {
        "colab": {
          "base_uri": "https://localhost:8080/"
        },
        "id": "8-dgKDjh8pvk",
        "outputId": "72323530-8de5-4017-85f6-2a164bb6d3a6"
      },
      "source": [
        "#Rotate method in deque\n",
        "from collections import deque\n",
        "myName = deque()\n",
        "myName.append(\"Shivansh\")\n",
        "myName.extend([\"Daksh\",\"Kanishk\",\"Vivaan\",\"Sahib\"])\n",
        "print(myName)\n",
        "myName.rotate(2)#Rotates from the last 2 elements\n",
        "print(myName)\n",
        "myName.rotate(-2)#Rotates back from the first 2 element\n",
        "print(myName)"
      ],
      "execution_count": null,
      "outputs": [
        {
          "output_type": "stream",
          "text": [
            "deque(['Shivansh', 'Daksh', 'Kanishk', 'Vivaan', 'Sahib'])\n",
            "deque(['Vivaan', 'Sahib', 'Shivansh', 'Daksh', 'Kanishk'])\n",
            "deque(['Shivansh', 'Daksh', 'Kanishk', 'Vivaan', 'Sahib'])\n"
          ],
          "name": "stdout"
        }
      ]
    },
    {
      "cell_type": "code",
      "metadata": {
        "colab": {
          "base_uri": "https://localhost:8080/"
        },
        "id": "r3wXBMKC-Uuy",
        "outputId": "2fd0fd62-9927-4731-a924-0b982f5c891d"
      },
      "source": [
        "#Named Tuple - A tuples which can have field names (headers)\n",
        "from collections import namedtuple #importing it\n",
        "templateUser = namedtuple('templateUser',\"name age gender\")#Using the contructor and giving 2 paramters - Name and all the headers, this is like a template\n",
        "Shivansh = templateUser(name=\"Shivansh\",age=12,gender=\"Male\")#Creating our named tuples\n",
        "print(Shivansh)#Printing the named tuple"
      ],
      "execution_count": null,
      "outputs": [
        {
          "output_type": "stream",
          "text": [
            "templateUser(name='Shivansh', age=12, gender='Male')\n"
          ],
          "name": "stdout"
        }
      ]
    },
    {
      "cell_type": "code",
      "metadata": {
        "id": "aR0lErbr-_zc",
        "colab": {
          "base_uri": "https://localhost:8080/"
        },
        "outputId": "c77a9af8-569a-4106-b4fa-3e12b89460cc"
      },
      "source": [
        "#Student List Generator\n",
        "from collections import deque\n",
        "studentList = deque()\n",
        "studentList.extend([\"Daksh\",\"Kanishk\",\"Vivaan\",\"Sahib\",\"Shivansh\",\"Arav\"])\n",
        "print(\"Welcome to the Student List Generator\")\n",
        "print(\"Send me 1 to append to the deque, 2 to append left, 3 to pop, 4 to pop left, 5 to extend, 6 to extend left and any negative number to exit!\")\n",
        "print(\"Let us begin!\")\n",
        "print(\"Here is the original deque with the Student List - \", studentList)\n",
        "userInput = 0\n",
        "appendName = 0\n",
        "appendLeftName = 0\n",
        "extendNames = 0\n",
        "extendNamesLeft = 0\n",
        "while True:\n",
        "  userInput = int(input(\"Tell me the choice! - \"))\n",
        "  if userInput==1:\n",
        "    appendName = input(\"What do you want to append? \")\n",
        "    studentList.append(appendName)\n",
        "    print(\"Here is the updated Student List - \", studentList)\n",
        "  elif userInput==2:\n",
        "    appendLeftName = input(\"What do you want to append left? \")\n",
        "    studentList.appendleft(appendLeftName)\n",
        "    print(\"Here is the updated Student List - \", studentList)\n",
        "  elif userInput==3:\n",
        "    print(\"Popping from right! \")\n",
        "    studentList.pop()\n",
        "    print(\"Here is the updated Student List - \", studentList)  \n",
        "  elif userInput==4:\n",
        "    print(\"Popping from left! \")\n",
        "    studentList.popleft()\n",
        "    print(\"Here is the updated Student List - \", studentList)  \n",
        "  elif userInput==5:\n",
        "    extendNames = input(\"What do you want to extend? Seperate by commas! \")\n",
        "    extendNames = extendNames.split(\",\")\n",
        "    studentList.extend(extendNames)\n",
        "    print(\"Here is the updated Student List - \", studentList)  \n",
        "  elif userInput==6:\n",
        "    extendNamesLeft = input(\"What do you want to extend left? Seperate by commas! \")\n",
        "    extendNamesLeft  = extendNamesLeft.split(\",\")\n",
        "    studentList.extendleft(extendNamesLeft)\n",
        "    print(\"Here is the updated Student List - \", studentList) \n",
        "  else:\n",
        "    print(\"Stopping program...\")\n",
        "    print(\"Program stopped!\")\n",
        "    print(\"Here is the updated Student List - \", studentList) \n",
        "    break   \n",
        "  "
      ],
      "execution_count": null,
      "outputs": [
        {
          "output_type": "stream",
          "text": [
            "Welcome to the Student List Generator\n",
            "Send me 1 to append to the deque, 2 to append left, 3 to pop, 4 to pop left, 5 to extend, 6 to extend left and any negative number to exit!\n",
            "Let us begin!\n",
            "Here is the original deque with the Student List -  deque(['Daksh', 'Kanishk', 'Vivaan', 'Sahib', 'Shivansh', 'Arav'])\n",
            "Tell me the choice! - 1\n",
            "What do you want to append? Arnav\n",
            "Here is the updated Student List -  deque(['Daksh', 'Kanishk', 'Vivaan', 'Sahib', 'Shivansh', 'Arav', 'Arnav'])\n",
            "Tell me the choice! - 3\n",
            "Popping from right! \n",
            "Here is the updated Student List -  deque(['Daksh', 'Kanishk', 'Vivaan', 'Sahib', 'Shivansh', 'Arav'])\n",
            "Tell me the choice! - 5\n",
            "What do you want to extend? Seperate by commas! Arnav,Kan\n",
            "Here is the updated Student List -  deque(['Daksh', 'Kanishk', 'Vivaan', 'Sahib', 'Shivansh', 'Arav', 'Arnav', 'Kan'])\n",
            "Tell me the choice! - -09876\n",
            "Stopping program...\n",
            "Program stopped!\n",
            "Here is the updated Student List -  deque(['Daksh', 'Kanishk', 'Vivaan', 'Sahib', 'Shivansh', 'Arav', 'Arnav', 'Kan'])\n"
          ],
          "name": "stdout"
        }
      ]
    }
  ]
}